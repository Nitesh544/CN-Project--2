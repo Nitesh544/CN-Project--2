{
 "cells": [
  {
   "cell_type": "markdown",
   "id": "4ac7ddce",
   "metadata": {},
   "source": [
    "# Spin a Yarn"
   ]
  },
  {
   "cell_type": "code",
   "execution_count": null,
   "id": "136611b8",
   "metadata": {},
   "outputs": [],
   "source": [
    "def mystory():\n",
    "    print(\"Lets create a new story\")\n",
    "    n1=input(\"Enter a Verb\")\n",
    "    n2=input(\"Enter a adjective \")\n",
    "    n3=input(\"Enter a adverb\")\n",
    "    n4=input(\"Enter a adjective\")\n",
    "    n5=input(\"Enter a verb\")\n",
    "    n6=input(\"Enter a Proper noun\")\n",
    "    n7=input(\"Enter a preposition\")\n",
    "    n8=input(\"Enter a Proper noun\")\n",
    "    n9=input(\"Enter a verb\")\n",
    "    n10=input(\"Enter a verb\")\n",
    "\n",
    "    Story=(\"I am an orphan , i like to \"+ n1 + \" Everyone thinks i am \"+n2+ \" i ofen get \"+n3+\" tricked and its fine to me. My dark childhood make me feel \"+n4+\" To earn my living i \"+n5+\"  .I found my love of my life in \"+n6+\" while we were \"+n7+\" AnimeExpo .I wish to see \"+n8+\" before dying, cause that's where my parents \"+n9+\". Oh ! i am getting late its time for \"+n10+\". And yeah, Wake up to Reality\")\n",
    "    print(Story)     "
   ]
  },
  {
   "cell_type": "code",
   "execution_count": null,
   "id": "aa18b5d4",
   "metadata": {},
   "outputs": [],
   "source": [
    "mystory()"
   ]
  },
  {
   "cell_type": "raw",
   "id": "fdeb1433",
   "metadata": {},
   "source": []
  },
  {
   "cell_type": "markdown",
   "id": "e5feb95f",
   "metadata": {},
   "source": []
  }
 ],
 "metadata": {
  "kernelspec": {
   "display_name": "Python 3",
   "language": "python",
   "name": "python3"
  },
  "language_info": {
   "codemirror_mode": {
    "name": "ipython",
    "version": 3
   },
   "file_extension": ".py",
   "mimetype": "text/x-python",
   "name": "python",
   "nbconvert_exporter": "python",
   "pygments_lexer": "ipython3",
   "version": "3.8.8"
  }
 },
 "nbformat": 4,
 "nbformat_minor": 5
}
